{
 "cells": [
  {
   "cell_type": "markdown",
   "metadata": {},
   "source": [
    "# Continuous Control\n",
    "\n",
    "---\n",
    "\n",
    "In this notebook, you will learn how to use the Unity ML-Agents environment for the second project of the [Deep Reinforcement Learning Nanodegree](https://www.udacity.com/course/deep-reinforcement-learning-nanodegree--nd893) program.\n",
    "\n",
    "### 1. Start the Environment\n",
    "\n",
    "We begin by importing the necessary packages.  If the code cell below returns an error, please revisit the project instructions to double-check that you have installed [Unity ML-Agents](https://github.com/Unity-Technologies/ml-agents/blob/master/docs/Installation.md) and [NumPy](http://www.numpy.org/)."
   ]
  },
  {
   "cell_type": "code",
   "execution_count": 1,
   "metadata": {},
   "outputs": [],
   "source": [
    "from unityagents import UnityEnvironment\n",
    "import numpy as np\n",
    "\n",
    "from ddpg_agent import Agent, ReplayBuffer\n",
    "from collections import deque\n",
    "import matplotlib.pyplot as plt\n",
    "import random\n",
    "import torch\n",
    "import time\n",
    "\n",
    "torch.cuda.empty_cache()"
   ]
  },
  {
   "cell_type": "markdown",
   "metadata": {},
   "source": [
    "Next, we will start the environment!  **_Before running the code cell below_**, change the `file_name` parameter to match the location of the Unity environment that you downloaded.\n",
    "\n",
    "- **Mac**: `\"path/to/Reacher.app\"`\n",
    "- **Windows** (x86): `\"path/to/Reacher_Windows_x86/Reacher.exe\"`\n",
    "- **Windows** (x86_64): `\"path/to/Reacher_Windows_x86_64/Reacher.exe\"`\n",
    "- **Linux** (x86): `\"path/to/Reacher_Linux/Reacher.x86\"`\n",
    "- **Linux** (x86_64): `\"path/to/Reacher_Linux/Reacher.x86_64\"`\n",
    "- **Linux** (x86, headless): `\"path/to/Reacher_Linux_NoVis/Reacher.x86\"`\n",
    "- **Linux** (x86_64, headless): `\"path/to/Reacher_Linux_NoVis/Reacher.x86_64\"`\n",
    "\n",
    "For instance, if you are using a Mac, then you downloaded `Reacher.app`.  If this file is in the same folder as the notebook, then the line below should appear as follows:\n",
    "```\n",
    "env = UnityEnvironment(file_name=\"Reacher.app\")\n",
    "```"
   ]
  },
  {
   "cell_type": "code",
   "execution_count": 2,
   "metadata": {},
   "outputs": [
    {
     "name": "stderr",
     "output_type": "stream",
     "text": [
      "INFO:unityagents:\n",
      "'Academy' started successfully!\n",
      "Unity Academy name: Academy\n",
      "        Number of Brains: 1\n",
      "        Number of External Brains : 1\n",
      "        Lesson number : 0\n",
      "        Reset Parameters :\n",
      "\t\tgoal_speed -> 1.0\n",
      "\t\tgoal_size -> 5.0\n",
      "Unity brain name: ReacherBrain\n",
      "        Number of Visual Observations (per agent): 0\n",
      "        Vector Observation space type: continuous\n",
      "        Vector Observation space size (per agent): 33\n",
      "        Number of stacked Vector Observation: 1\n",
      "        Vector Action space type: continuous\n",
      "        Vector Action space size (per agent): 4\n",
      "        Vector Action descriptions: , , , \n"
     ]
    }
   ],
   "source": [
    "env = UnityEnvironment(file_name='/home/cp/Documents/deepR/deep-reinforcement-learning/p2_continuous-control/Reacher_Linux/Reacher.x86_64')"
   ]
  },
  {
   "cell_type": "markdown",
   "metadata": {},
   "source": [
    "Environments contain **_brains_** which are responsible for deciding the actions of their associated agents. Here we check for the first brain available, and set it as the default brain we will be controlling from Python."
   ]
  },
  {
   "cell_type": "code",
   "execution_count": 3,
   "metadata": {},
   "outputs": [
    {
     "name": "stdout",
     "output_type": "stream",
     "text": [
      "ReacherBrain\n",
      "Unity brain name: ReacherBrain\n",
      "        Number of Visual Observations (per agent): 0\n",
      "        Vector Observation space type: continuous\n",
      "        Vector Observation space size (per agent): 33\n",
      "        Number of stacked Vector Observation: 1\n",
      "        Vector Action space type: continuous\n",
      "        Vector Action space size (per agent): 4\n",
      "        Vector Action descriptions: , , , \n"
     ]
    }
   ],
   "source": [
    "# get the default brain\n",
    "brain_name = env.brain_names[0]\n",
    "brain = env.brains[brain_name]\n",
    "print(brain_name)\n",
    "print(brain)"
   ]
  },
  {
   "cell_type": "markdown",
   "metadata": {},
   "source": [
    "### 2. Examine the State and Action Spaces\n",
    "\n",
    "In this environment, a double-jointed arm can move to target locations. A reward of `+0.1` is provided for each step that the agent's hand is in the goal location. Thus, the goal of your agent is to maintain its position at the target location for as many time steps as possible.\n",
    "\n",
    "The observation space consists of `33` variables corresponding to position, rotation, velocity, and angular velocities of the arm.  Each action is a vector with four numbers, corresponding to torque applicable to two joints.  Every entry in the action vector must be a number between `-1` and `1`.\n",
    "\n",
    "Run the code cell below to print some information about the environment."
   ]
  },
  {
   "cell_type": "code",
   "execution_count": 4,
   "metadata": {},
   "outputs": [
    {
     "name": "stdout",
     "output_type": "stream",
     "text": [
      "Number of agents: 20\n",
      "Size of each action: 4\n",
      "There are 20 agents. Each observes a state with length: 33\n",
      "The state for the first agent looks like: [ 0.00000000e+00 -4.00000000e+00  0.00000000e+00  1.00000000e+00\n",
      " -0.00000000e+00 -0.00000000e+00 -4.37113883e-08  0.00000000e+00\n",
      "  0.00000000e+00  0.00000000e+00  0.00000000e+00  0.00000000e+00\n",
      "  0.00000000e+00  0.00000000e+00 -1.00000000e+01  0.00000000e+00\n",
      "  1.00000000e+00 -0.00000000e+00 -0.00000000e+00 -4.37113883e-08\n",
      "  0.00000000e+00  0.00000000e+00  0.00000000e+00  0.00000000e+00\n",
      "  0.00000000e+00  0.00000000e+00  5.75471878e+00 -1.00000000e+00\n",
      "  5.55726624e+00  0.00000000e+00  1.00000000e+00  0.00000000e+00\n",
      " -1.68164849e-01]\n"
     ]
    }
   ],
   "source": [
    "# reset the environment\n",
    "env_info = env.reset(train_mode=True)[brain_name]\n",
    "\n",
    "# number of agents\n",
    "num_agents = len(env_info.agents)\n",
    "print('Number of agents:', num_agents)\n",
    "\n",
    "# size of each action\n",
    "action_size = brain.vector_action_space_size\n",
    "print('Size of each action:', action_size)\n",
    "\n",
    "# examine the state space \n",
    "states = env_info.vector_observations\n",
    "state_size = states.shape[1]\n",
    "print('There are {} agents. Each observes a state with length: {}'.format(states.shape[0], state_size))\n",
    "print('The state for the first agent looks like:', states[0])"
   ]
  },
  {
   "cell_type": "markdown",
   "metadata": {},
   "source": [
    "### 3. Take Random Actions in the Environment\n",
    "\n",
    "In the next code cell, you will learn how to use the Python API to control the agent and receive feedback from the environment.\n",
    "\n",
    "Once this cell is executed, you will watch the agent's performance, if it selects an action at random with each time step.  A window should pop up that allows you to observe the agent, as it moves through the environment.  \n",
    "\n",
    "Of course, as part of the project, you'll have to change the code so that the agent is able to use its experience to gradually choose better actions when interacting with the environment!"
   ]
  },
  {
   "cell_type": "code",
   "execution_count": 5,
   "metadata": {},
   "outputs": [],
   "source": [
    "# env_info = env.reset(train_mode=False)[brain_name]     # reset the environment    \n",
    "# states = env_info.vector_observations                  # get the current state (for each agent)\n",
    "# scores = np.zeros(num_agents)                          # initialize the score (for each agent)\n",
    "# while True:\n",
    "#     actions = np.random.randn(num_agents, action_size) # select an action (for each agent)\n",
    "#     actions = np.clip(actions, -1, 1)                  # all actions between -1 and 1\n",
    "#     env_info = env.step(actions)[brain_name]           # send all actions to tne environment\n",
    "#     next_states = env_info.vector_observations         # get next state (for each agent)\n",
    "#     rewards = env_info.rewards                         # get reward (for each agent)\n",
    "#     dones = env_info.local_done                        # see if episode finished\n",
    "#     scores += env_info.rewards                         # update the score (for each agent)\n",
    "#     states = next_states                               # roll over states to next time step\n",
    "#     if np.any(dones):                                  # exit loop if episode finished\n",
    "#         break\n",
    "# print('Total score (averaged over agents) this episode: {}'.format(np.mean(scores)))"
   ]
  },
  {
   "cell_type": "markdown",
   "metadata": {},
   "source": [
    "When finished, you can close the environment."
   ]
  },
  {
   "cell_type": "code",
   "execution_count": 6,
   "metadata": {},
   "outputs": [],
   "source": [
    "# env.close()"
   ]
  },
  {
   "cell_type": "markdown",
   "metadata": {},
   "source": [
    "### 4. It's Your Turn!\n",
    "\n",
    "Now it's your turn to train your own agent to solve the environment!  When training the environment, set `train_mode=True`, so that the line for resetting the environment looks like the following:\n",
    "```python\n",
    "env_info = env.reset(train_mode=True)[brain_name]\n",
    "```"
   ]
  },
  {
   "cell_type": "code",
   "execution_count": 7,
   "metadata": {},
   "outputs": [],
   "source": [
    "def ddpg(n_episodes=1000, max_t=1000, print_every=10, learn_every=20, num_learn=10, goal_score=30):\n",
    "    total_scores_deque = deque(maxlen=100)\n",
    "    total_scores = []\n",
    "    \n",
    "    for i_episode in range(1, n_episodes+1):\n",
    "        # Reset env, agents and score | get current states of all 20 agents\n",
    "        env_info = env.reset(train_mode=True)[brain_name]       \n",
    "        states = env_info.vector_observations   \n",
    "        scores = np.zeros(num_agents)\n",
    "        agent.reset()\n",
    "        \n",
    "        start_time = time.time()\n",
    "        \n",
    "        for t in range(max_t):\n",
    "            actions = agent.act(states)                         # a get actions to take from state \n",
    "            env_info = env.step(actions)[brain_name]            # send all actions to the environment\n",
    "            next_states = env_info.vector_observations          # s' get next state (for each agent)\n",
    "            rewards = env_info.rewards                          # r get reward (for each agent)\n",
    "            dones = env_info.local_done                         # d see if episode finished\n",
    "            \n",
    "            for state, action, reward, next_state, done in zip(states, actions, rewards, next_states, dones):\n",
    "                agent.step(state, action, reward, next_state, done) # add experience to replay buffer\n",
    "            \n",
    "            scores += env_info.rewards                          # update the score (for each agent)\n",
    "            states = next_states                                # roll over states to next time step\n",
    "            \n",
    "            if t%learn_every == 0:\n",
    "                for _ in range(num_learn):\n",
    "                    agent.start_learn()\n",
    "            \n",
    "            if np.any(dones):                                   # exit loop if episode finished\n",
    "                break\n",
    "    \n",
    "        mean_score = np.mean(scores)\n",
    "        min_score = np.min(scores)\n",
    "        max_score = np.max(scores)\n",
    "        total_scores_deque.append(mean_score)\n",
    "        total_scores.append(mean_score)\n",
    "        total_average_score = np.mean(total_scores_deque)\n",
    "        duration = time.time() - start_time\n",
    "        \n",
    "        print('\\rEpisode {}\\tTotal Average Score: {:.2f}\\tMean: {:.2f}\\tMin: {:.2f}\\tMax: {:.2f}\\tDuration: {:.2f}'\n",
    "              .format(i_episode, total_average_score, mean_score, min_score, max_score, duration))\n",
    "\n",
    "        if i_episode % print_every == 0:\n",
    "            torch.save(agent.actor_local.state_dict(), 'checkpoint_actor.pth')\n",
    "            torch.save(agent.critic_local.state_dict(), 'checkpoint_critic.pth')\n",
    "            print('\\rEpisode {}\\tTotal Average Score: {:.2f}'.format(i_episode, total_average_score))  \n",
    "            \n",
    "        if total_average_score >= goal_score and i_episode >= 100:\n",
    "            print('Problem Solved after {} epsisodes!! Total Average score: {:.2f}'.format(i_episode, total_average_score))\n",
    "            torch.save(agent.actor_local.state_dict(), 'checkpoint_actor.pth')\n",
    "            torch.save(agent.critic_local.state_dict(), 'checkpoint_critic.pth')\n",
    "            break\n",
    "    \n",
    "    return total_scores"
   ]
  },
  {
   "cell_type": "code",
   "execution_count": 8,
   "metadata": {},
   "outputs": [
    {
     "name": "stdout",
     "output_type": "stream",
     "text": [
      "Episode 1\tTotal Average Score: 0.92\tMean: 0.92\tMin: 0.10\tMax: 1.79\tDuration: 9.30\n",
      "Episode 2\tTotal Average Score: 1.05\tMean: 1.17\tMin: 0.43\tMax: 2.26\tDuration: 9.61\n",
      "Episode 3\tTotal Average Score: 1.09\tMean: 1.16\tMin: 0.34\tMax: 2.34\tDuration: 11.47\n",
      "Episode 4\tTotal Average Score: 1.11\tMean: 1.17\tMin: 0.43\tMax: 3.61\tDuration: 11.59\n",
      "Episode 5\tTotal Average Score: 1.19\tMean: 1.50\tMin: 0.27\tMax: 2.98\tDuration: 10.86\n",
      "Episode 6\tTotal Average Score: 1.26\tMean: 1.66\tMin: 0.44\tMax: 2.89\tDuration: 10.83\n",
      "Episode 7\tTotal Average Score: 1.34\tMean: 1.81\tMin: 0.31\tMax: 4.18\tDuration: 10.33\n",
      "Episode 8\tTotal Average Score: 1.37\tMean: 1.55\tMin: 0.39\tMax: 3.75\tDuration: 11.86\n",
      "Episode 9\tTotal Average Score: 1.43\tMean: 1.89\tMin: 0.47\tMax: 4.12\tDuration: 10.37\n",
      "Episode 10\tTotal Average Score: 1.51\tMean: 2.22\tMin: 0.41\tMax: 4.18\tDuration: 10.50\n",
      "Episode 10\tTotal Average Score: 1.51\n",
      "Episode 11\tTotal Average Score: 1.60\tMean: 2.54\tMin: 0.98\tMax: 4.10\tDuration: 10.71\n",
      "Episode 12\tTotal Average Score: 1.71\tMean: 2.94\tMin: 1.26\tMax: 4.50\tDuration: 10.94\n",
      "Episode 13\tTotal Average Score: 1.86\tMean: 3.60\tMin: 1.47\tMax: 5.42\tDuration: 11.21\n",
      "Episode 14\tTotal Average Score: 1.99\tMean: 3.78\tMin: 1.76\tMax: 5.90\tDuration: 11.35\n",
      "Episode 15\tTotal Average Score: 2.12\tMean: 3.87\tMin: 1.40\tMax: 5.66\tDuration: 11.64\n",
      "Episode 16\tTotal Average Score: 2.24\tMean: 4.07\tMin: 1.68\tMax: 7.04\tDuration: 11.82\n",
      "Episode 17\tTotal Average Score: 2.38\tMean: 4.58\tMin: 1.75\tMax: 8.83\tDuration: 12.07\n",
      "Episode 18\tTotal Average Score: 2.54\tMean: 5.35\tMin: 2.01\tMax: 7.03\tDuration: 12.29\n",
      "Episode 19\tTotal Average Score: 2.72\tMean: 5.95\tMin: 3.64\tMax: 8.68\tDuration: 12.65\n",
      "Episode 20\tTotal Average Score: 2.87\tMean: 5.72\tMin: 1.97\tMax: 10.35\tDuration: 12.70\n",
      "Episode 20\tTotal Average Score: 2.87\n",
      "Episode 21\tTotal Average Score: 3.07\tMean: 7.04\tMin: 4.39\tMax: 10.08\tDuration: 13.00\n",
      "Episode 22\tTotal Average Score: 3.26\tMean: 7.29\tMin: 3.28\tMax: 10.72\tDuration: 13.18\n",
      "Episode 23\tTotal Average Score: 3.50\tMean: 8.70\tMin: 4.09\tMax: 13.62\tDuration: 13.42\n",
      "Episode 24\tTotal Average Score: 3.72\tMean: 8.74\tMin: 3.68\tMax: 17.02\tDuration: 13.75\n",
      "Episode 25\tTotal Average Score: 4.00\tMean: 10.80\tMin: 4.58\tMax: 20.13\tDuration: 14.03\n",
      "Episode 26\tTotal Average Score: 4.32\tMean: 12.37\tMin: 6.73\tMax: 19.33\tDuration: 14.11\n",
      "Episode 27\tTotal Average Score: 4.62\tMean: 12.41\tMin: 6.82\tMax: 18.63\tDuration: 14.44\n",
      "Episode 28\tTotal Average Score: 4.95\tMean: 13.76\tMin: 7.46\tMax: 26.10\tDuration: 14.55\n",
      "Episode 29\tTotal Average Score: 5.32\tMean: 15.74\tMin: 9.48\tMax: 22.69\tDuration: 14.83\n",
      "Episode 30\tTotal Average Score: 5.63\tMean: 14.72\tMin: 10.92\tMax: 26.23\tDuration: 14.94\n",
      "Episode 30\tTotal Average Score: 5.63\n",
      "Episode 31\tTotal Average Score: 6.06\tMean: 18.91\tMin: 10.04\tMax: 30.39\tDuration: 15.28\n",
      "Episode 32\tTotal Average Score: 6.45\tMean: 18.49\tMin: 10.42\tMax: 26.44\tDuration: 15.48\n",
      "Episode 33\tTotal Average Score: 6.88\tMean: 20.53\tMin: 14.02\tMax: 29.99\tDuration: 15.66\n",
      "Episode 34\tTotal Average Score: 7.28\tMean: 20.39\tMin: 9.58\tMax: 29.61\tDuration: 15.88\n",
      "Episode 35\tTotal Average Score: 7.69\tMean: 21.88\tMin: 12.99\tMax: 28.14\tDuration: 16.25\n",
      "Episode 36\tTotal Average Score: 8.16\tMean: 24.48\tMin: 16.88\tMax: 32.49\tDuration: 16.41\n",
      "Episode 37\tTotal Average Score: 8.60\tMean: 24.55\tMin: 19.72\tMax: 31.35\tDuration: 16.63\n",
      "Episode 38\tTotal Average Score: 9.09\tMean: 27.35\tMin: 21.15\tMax: 31.09\tDuration: 16.76\n",
      "Episode 39\tTotal Average Score: 9.55\tMean: 26.96\tMin: 20.84\tMax: 30.59\tDuration: 17.08\n",
      "Episode 40\tTotal Average Score: 9.98\tMean: 26.81\tMin: 18.04\tMax: 33.16\tDuration: 17.21\n",
      "Episode 40\tTotal Average Score: 9.98\n",
      "Episode 41\tTotal Average Score: 10.38\tMean: 26.25\tMin: 19.88\tMax: 37.05\tDuration: 17.25\n",
      "Episode 42\tTotal Average Score: 10.84\tMean: 29.65\tMin: 19.60\tMax: 34.37\tDuration: 17.74\n",
      "Episode 43\tTotal Average Score: 11.29\tMean: 30.28\tMin: 22.03\tMax: 37.01\tDuration: 18.02\n",
      "Episode 44\tTotal Average Score: 11.73\tMean: 30.41\tMin: 24.75\tMax: 35.02\tDuration: 18.21\n",
      "Episode 45\tTotal Average Score: 12.17\tMean: 31.45\tMin: 25.79\tMax: 36.26\tDuration: 18.39\n",
      "Episode 46\tTotal Average Score: 12.59\tMean: 31.81\tMin: 29.03\tMax: 34.28\tDuration: 18.76\n",
      "Episode 47\tTotal Average Score: 13.04\tMean: 33.76\tMin: 29.74\tMax: 37.79\tDuration: 18.71\n",
      "Episode 48\tTotal Average Score: 13.47\tMean: 33.34\tMin: 27.12\tMax: 37.86\tDuration: 19.05\n",
      "Episode 49\tTotal Average Score: 13.85\tMean: 32.27\tMin: 25.31\tMax: 36.67\tDuration: 19.17\n",
      "Episode 50\tTotal Average Score: 14.22\tMean: 32.30\tMin: 28.09\tMax: 35.25\tDuration: 19.46\n",
      "Episode 50\tTotal Average Score: 14.22\n",
      "Episode 51\tTotal Average Score: 14.59\tMean: 33.09\tMin: 27.62\tMax: 36.51\tDuration: 19.75\n",
      "Episode 52\tTotal Average Score: 14.96\tMean: 34.05\tMin: 29.73\tMax: 38.36\tDuration: 19.68\n",
      "Episode 53\tTotal Average Score: 15.30\tMean: 32.61\tMin: 25.95\tMax: 36.19\tDuration: 19.97\n",
      "Episode 54\tTotal Average Score: 15.65\tMean: 34.70\tMin: 31.19\tMax: 38.16\tDuration: 19.59\n",
      "Episode 55\tTotal Average Score: 15.96\tMean: 32.28\tMin: 29.19\tMax: 35.71\tDuration: 20.21\n",
      "Episode 56\tTotal Average Score: 16.29\tMean: 34.48\tMin: 32.45\tMax: 36.86\tDuration: 23.45\n",
      "Episode 57\tTotal Average Score: 16.61\tMean: 34.69\tMin: 29.79\tMax: 37.49\tDuration: 24.00\n",
      "Episode 58\tTotal Average Score: 16.91\tMean: 34.05\tMin: 28.17\tMax: 36.79\tDuration: 25.05\n",
      "Episode 59\tTotal Average Score: 17.22\tMean: 35.23\tMin: 32.00\tMax: 37.09\tDuration: 21.72\n",
      "Episode 60\tTotal Average Score: 17.52\tMean: 35.15\tMin: 29.47\tMax: 38.29\tDuration: 21.54\n",
      "Episode 60\tTotal Average Score: 17.52\n",
      "Episode 61\tTotal Average Score: 17.83\tMean: 36.65\tMin: 32.95\tMax: 39.57\tDuration: 21.58\n",
      "Episode 62\tTotal Average Score: 18.10\tMean: 34.14\tMin: 26.80\tMax: 38.36\tDuration: 21.66\n",
      "Episode 63\tTotal Average Score: 18.39\tMean: 36.56\tMin: 33.00\tMax: 38.09\tDuration: 21.56\n",
      "Episode 64\tTotal Average Score: 18.67\tMean: 36.25\tMin: 32.36\tMax: 38.60\tDuration: 21.53\n",
      "Episode 65\tTotal Average Score: 18.91\tMean: 34.13\tMin: 29.67\tMax: 37.28\tDuration: 21.88\n",
      "Episode 66\tTotal Average Score: 19.16\tMean: 35.77\tMin: 29.97\tMax: 38.71\tDuration: 21.81\n",
      "Episode 67\tTotal Average Score: 19.42\tMean: 36.67\tMin: 32.33\tMax: 39.00\tDuration: 21.99\n",
      "Episode 68\tTotal Average Score: 19.68\tMean: 36.63\tMin: 32.84\tMax: 38.39\tDuration: 21.53\n",
      "Episode 69\tTotal Average Score: 19.89\tMean: 34.54\tMin: 31.37\tMax: 37.47\tDuration: 21.45\n",
      "Episode 70\tTotal Average Score: 20.14\tMean: 37.04\tMin: 34.38\tMax: 38.94\tDuration: 21.38\n",
      "Episode 70\tTotal Average Score: 20.14\n",
      "Episode 71\tTotal Average Score: 20.37\tMean: 36.97\tMin: 33.03\tMax: 38.78\tDuration: 21.50\n",
      "Episode 72\tTotal Average Score: 20.60\tMean: 36.93\tMin: 34.00\tMax: 38.42\tDuration: 21.50\n",
      "Episode 73\tTotal Average Score: 20.84\tMean: 37.93\tMin: 33.18\tMax: 39.62\tDuration: 21.55\n",
      "Episode 74\tTotal Average Score: 21.05\tMean: 36.24\tMin: 34.01\tMax: 38.18\tDuration: 21.48\n",
      "Episode 75\tTotal Average Score: 21.27\tMean: 37.64\tMin: 34.66\tMax: 39.31\tDuration: 21.55\n",
      "Episode 76\tTotal Average Score: 21.48\tMean: 37.50\tMin: 32.10\tMax: 39.47\tDuration: 21.49\n",
      "Episode 77\tTotal Average Score: 21.70\tMean: 37.88\tMin: 33.16\tMax: 39.33\tDuration: 21.60\n",
      "Episode 78\tTotal Average Score: 21.90\tMean: 37.56\tMin: 35.49\tMax: 39.42\tDuration: 21.64\n",
      "Episode 79\tTotal Average Score: 22.11\tMean: 38.12\tMin: 34.12\tMax: 39.59\tDuration: 21.66\n",
      "Episode 80\tTotal Average Score: 22.31\tMean: 38.15\tMin: 34.93\tMax: 39.50\tDuration: 21.62\n",
      "Episode 80\tTotal Average Score: 22.31\n",
      "Episode 81\tTotal Average Score: 22.48\tMean: 36.58\tMin: 32.77\tMax: 38.26\tDuration: 21.63\n",
      "Episode 82\tTotal Average Score: 22.66\tMean: 37.03\tMin: 34.38\tMax: 38.33\tDuration: 21.65\n",
      "Episode 83\tTotal Average Score: 22.85\tMean: 38.21\tMin: 34.27\tMax: 39.56\tDuration: 21.83\n",
      "Episode 84\tTotal Average Score: 23.01\tMean: 36.84\tMin: 32.39\tMax: 39.10\tDuration: 21.68\n",
      "Episode 85\tTotal Average Score: 23.18\tMean: 37.50\tMin: 33.61\tMax: 39.28\tDuration: 21.68\n",
      "Episode 86\tTotal Average Score: 23.37\tMean: 39.02\tMin: 37.58\tMax: 39.58\tDuration: 21.67\n",
      "Episode 87\tTotal Average Score: 23.52\tMean: 36.14\tMin: 33.76\tMax: 38.55\tDuration: 21.70\n",
      "Episode 88\tTotal Average Score: 23.68\tMean: 38.04\tMin: 36.77\tMax: 39.17\tDuration: 21.68\n",
      "Episode 89\tTotal Average Score: 23.83\tMean: 37.08\tMin: 33.86\tMax: 38.99\tDuration: 21.94\n",
      "Episode 90\tTotal Average Score: 23.97\tMean: 36.57\tMin: 33.30\tMax: 38.16\tDuration: 21.72\n",
      "Episode 90\tTotal Average Score: 23.97\n",
      "Episode 91\tTotal Average Score: 24.14\tMean: 38.90\tMin: 37.66\tMax: 39.56\tDuration: 21.71\n"
     ]
    },
    {
     "name": "stdout",
     "output_type": "stream",
     "text": [
      "Episode 92\tTotal Average Score: 24.28\tMean: 37.57\tMin: 35.16\tMax: 39.01\tDuration: 21.83\n",
      "Episode 93\tTotal Average Score: 24.42\tMean: 37.02\tMin: 33.90\tMax: 39.03\tDuration: 21.78\n",
      "Episode 94\tTotal Average Score: 24.57\tMean: 38.42\tMin: 36.24\tMax: 39.40\tDuration: 21.66\n",
      "Episode 95\tTotal Average Score: 24.71\tMean: 37.88\tMin: 34.35\tMax: 39.35\tDuration: 21.62\n",
      "Episode 96\tTotal Average Score: 24.86\tMean: 38.89\tMin: 37.49\tMax: 39.59\tDuration: 21.68\n",
      "Episode 97\tTotal Average Score: 24.99\tMean: 37.97\tMin: 34.08\tMax: 39.44\tDuration: 21.69\n",
      "Episode 98\tTotal Average Score: 25.12\tMean: 37.81\tMin: 35.44\tMax: 39.30\tDuration: 21.73\n",
      "Episode 99\tTotal Average Score: 25.24\tMean: 36.77\tMin: 33.06\tMax: 38.02\tDuration: 21.71\n",
      "Episode 100\tTotal Average Score: 25.38\tMean: 38.82\tMin: 36.40\tMax: 39.66\tDuration: 21.79\n",
      "Episode 100\tTotal Average Score: 25.38\n",
      "Episode 101\tTotal Average Score: 25.75\tMean: 38.15\tMin: 35.88\tMax: 39.45\tDuration: 21.66\n",
      "Episode 102\tTotal Average Score: 26.10\tMean: 36.82\tMin: 33.53\tMax: 38.53\tDuration: 21.62\n",
      "Episode 103\tTotal Average Score: 26.46\tMean: 36.73\tMin: 32.59\tMax: 38.16\tDuration: 21.65\n",
      "Episode 104\tTotal Average Score: 26.83\tMean: 37.77\tMin: 35.78\tMax: 39.14\tDuration: 21.57\n",
      "Episode 105\tTotal Average Score: 27.19\tMean: 37.54\tMin: 33.88\tMax: 39.51\tDuration: 21.54\n",
      "Episode 106\tTotal Average Score: 27.56\tMean: 38.89\tMin: 37.42\tMax: 39.52\tDuration: 21.65\n",
      "Episode 107\tTotal Average Score: 27.93\tMean: 38.79\tMin: 36.88\tMax: 39.59\tDuration: 22.34\n",
      "Episode 108\tTotal Average Score: 28.29\tMean: 37.49\tMin: 34.13\tMax: 39.56\tDuration: 21.63\n",
      "Episode 109\tTotal Average Score: 28.65\tMean: 37.83\tMin: 34.26\tMax: 39.16\tDuration: 21.67\n",
      "Episode 110\tTotal Average Score: 29.01\tMean: 38.07\tMin: 36.06\tMax: 39.43\tDuration: 21.77\n",
      "Episode 110\tTotal Average Score: 29.01\n",
      "Episode 111\tTotal Average Score: 29.36\tMean: 37.92\tMin: 36.38\tMax: 39.61\tDuration: 21.72\n",
      "Episode 112\tTotal Average Score: 29.70\tMean: 36.93\tMin: 33.27\tMax: 38.95\tDuration: 21.65\n",
      "Episode 113\tTotal Average Score: 30.05\tMean: 38.44\tMin: 36.97\tMax: 39.57\tDuration: 22.09\n",
      "Problem Solved after 113 epsisodes!! Total Average score: 30.05\n"
     ]
    }
   ],
   "source": [
    "# Create Agent\n",
    "agent = Agent(state_size=state_size, action_size=action_size, random_seed=52)\n",
    "scores = ddpg()"
   ]
  },
  {
   "cell_type": "code",
   "execution_count": 9,
   "metadata": {},
   "outputs": [
    {
     "data": {
      "image/png": "[encoded data removed]",
      "text/plain": [
       "<Figure size 432x288 with 1 Axes>"
      ]
     },
     "metadata": {
      "needs_background": "light"
     },
     "output_type": "display_data"
    }
   ],
   "source": [
    "fig = plt.figure()\n",
    "ax = fig.add_subplot(1,1,1)\n",
    "\n",
    "plt.plot(np.arange(1, len(scores)+1), scores)\n",
    "plt.ylabel('Score')\n",
    "plt.xlabel('Episodes')\n",
    "plt.show()"
   ]
  },
  {
   "cell_type": "code",
   "execution_count": 10,
   "metadata": {},
   "outputs": [
    {
     "name": "stdout",
     "output_type": "stream",
     "text": [
      "Total score: 38.26749914465472\n"
     ]
    }
   ],
   "source": [
    "# Testing\n",
    "\n",
    "# Load the saved weights into Pytorch model\n",
    "agent.actor_local.load_state_dict(torch.load('checkpoint_actor.pth', map_location='cpu'))\n",
    "agent.critic_local.load_state_dict(torch.load('checkpoint_critic.pth', map_location='cpu'))\n",
    "\n",
    "env_info = env.reset(train_mode=False)[brain_name]     # reset the environment    \n",
    "states = env_info.vector_observations                  # get the current state (for each agent)\n",
    "scores = np.zeros(num_agents)                          # initialize the score (for each agent)\n",
    "\n",
    "while True:\n",
    "    actions = agent.act(states)                        # select actions from loaded model agent\n",
    "    env_info = env.step(actions)[brain_name]           # send all actions to tne environment\n",
    "    next_states = env_info.vector_observations         # get next state (for each agent)\n",
    "    rewards = env_info.rewards                         # get reward (for each agent)\n",
    "    dones = env_info.local_done                        # see if episode finished\n",
    "    scores += env_info.rewards                         # update the score (for each agent)\n",
    "    states = next_states                               # roll over states to next time step\n",
    "    if np.any(dones):                                  # exit loop if episode finished\n",
    "        break\n",
    "print('Total score: {}'.format(np.mean(scores)))"
   ]
  },
  {
   "cell_type": "code",
   "execution_count": 11,
   "metadata": {},
   "outputs": [],
   "source": [
    "env.close()"
   ]
  },
  {
   "cell_type": "code",
   "execution_count": null,
   "metadata": {},
   "outputs": [],
   "source": []
  },
  {
   "cell_type": "code",
   "execution_count": null,
   "metadata": {},
   "outputs": [],
   "source": []
  }
 ],
 "metadata": {
  "kernelspec": {
   "display_name": "drlnd",
   "language": "python",
   "name": "drlnd"
  },
  "language_info": {
   "codemirror_mode": {
    "name": "ipython",
    "version": 3
   },
   "file_extension": ".py",
   "mimetype": "text/x-python",
   "name": "python",
   "nbconvert_exporter": "python",
   "pygments_lexer": "ipython3",
   "version": "3.6.10"
  }
 },
 "nbformat": 4,
 "nbformat_minor": 2
}
